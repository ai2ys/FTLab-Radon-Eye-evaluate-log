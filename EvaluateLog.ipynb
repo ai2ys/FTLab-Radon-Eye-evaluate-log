{
 "cells": [
  {
   "cell_type": "markdown",
   "metadata": {},
   "source": [
    "# Visualize RadonEye log file data"
   ]
  },
  {
   "cell_type": "markdown",
   "metadata": {},
   "source": [
    "List all available files in the directory."
   ]
  },
  {
   "cell_type": "code",
   "execution_count": 1,
   "metadata": {},
   "outputs": [
    {
     "name": "stdout",
     "output_type": "stream",
     "text": [
      "total 164\n",
      "drwxrwxrwx 1 1000 1000  4096 Apr  1 09:57  \u001b[0m\u001b[34;42m.\u001b[0m/\n",
      "drwxr-xr-x 1 root root  4096 Apr  1 17:00  \u001b[01;34m..\u001b[0m/\n",
      "drwxrwxrwx 1 1000 1000  4096 Jan  1 20:14  \u001b[34;42m.devcontainer\u001b[0m/\n",
      "-rwxrwxrwx 1 1000 1000   129 Apr  1 16:56  \u001b[01;32m.env\u001b[0m*\n",
      "drwxrwxrwx 1 1000 1000  4096 Jan  1 21:25  \u001b[34;42m.git\u001b[0m/\n",
      "-rwxrwxrwx 1 1000 1000    20 Jan  1 21:08  \u001b[01;32m.gitignore\u001b[0m*\n",
      "drwxrwxrwx 1 1000 1000  4096 Jan  1 21:13  \u001b[34;42m.ipynb_checkpoints\u001b[0m/\n",
      "drwxrwxrwx 1 1000 1000  4096 Nov 26 15:54  \u001b[34;42m.vscode\u001b[0m/\n",
      "-rwxrwxrwx 1 1000 1000  6053 Apr  1 17:30  \u001b[01;32mEvaluateLog.ipynb\u001b[0m*\n",
      "-rwxrwxrwx 1 1000 1000 15228 Apr  1  2021 \u001b[01;32m'RE22002111054_20210301 100921.txt'\u001b[0m*\n",
      "-rwxrwxrwx 1 1000 1000  1367 Jan  1 21:23  \u001b[01;32mREADME.md\u001b[0m*\n",
      "-rwxrwxrwx 1 1000 1000 69884 Apr  1 17:29  \u001b[01;32mboxplot.svg\u001b[0m*\n",
      "drwxrwxrwx 1 1000 1000  4096 Apr  1 10:05  \u001b[34;42mdocker\u001b[0m/\n",
      "-rwxrwxrwx 1 1000 1000   457 Apr  1 17:00  \u001b[01;32mdocker-compose.yml\u001b[0m*\n",
      "-rwxrwxrwx 1 1000 1000 59841 Apr  1 17:30  \u001b[01;32mlineplot.svg\u001b[0m*\n"
     ]
    }
   ],
   "source": [
    "ls -al"
   ]
  },
  {
   "cell_type": "markdown",
   "metadata": {},
   "source": [
    "Import all required libraries."
   ]
  },
  {
   "cell_type": "code",
   "execution_count": 2,
   "metadata": {},
   "outputs": [],
   "source": [
    "import pandas as pd\n",
    "import numpy as np\n",
    "import re\n",
    "import os\n",
    "from datetime import datetime, timedelta\n",
    "import matplotlib.pyplot as plt\n",
    "from IPython.display import display"
   ]
  },
  {
   "cell_type": "markdown",
   "metadata": {},
   "source": [
    "Define regular expression for filtering for log files within the directory. Log file names created by FTLab Radon Eye are named in the following way:<br>\n",
    "- example: 'RE22002111054_20210301 100921.txt' which relates to `<serial no>_<YYmmDD> <HHMMSS>.txt`"
   ]
  },
  {
   "cell_type": "code",
   "execution_count": 3,
   "metadata": {},
   "outputs": [
    {
     "name": "stdout",
     "output_type": "stream",
     "text": [
      "file name: 'RE22002111054_20210301 100921.txt', serial No: 'RE22002111054', date time: '2021-03-01 10:09:21'\n"
     ]
    }
   ],
   "source": [
    "# filter for log files using regex for log file name\n",
    "pat_file = re.compile('(RE[0-9]+)_([0-9]+ [0-9]+).txt')\n",
    "files = []\n",
    "matches = []\n",
    "for f in os.listdir('.'):\n",
    "    m=re.match(pat_file,f)\n",
    "    if m is not None:\n",
    "        files.append(f)\n",
    "        matches.append(m)\n",
    "\n",
    "# print info from retrieved files\n",
    "for (f, m) in zip(files, matches):\n",
    "    sn = m.group(1)\n",
    "    date_time_obj = datetime.strptime(m.group(2), '%Y%m%d %H%M%S')\n",
    "    print(f\"file name: '{f}', serial No: '{sn}', date time: '{date_time_obj}'\")\n"
   ]
  },
  {
   "cell_type": "markdown",
   "metadata": {},
   "source": [
    "## Analyzing the log file\n",
    "Read first file found (here in this repository, only one log file is available)."
   ]
  },
  {
   "cell_type": "code",
   "execution_count": 4,
   "metadata": {},
   "outputs": [
    {
     "data": {
      "text/html": [
       "<div>\n",
       "<style scoped>\n",
       "    .dataframe tbody tr th:only-of-type {\n",
       "        vertical-align: middle;\n",
       "    }\n",
       "\n",
       "    .dataframe tbody tr th {\n",
       "        vertical-align: top;\n",
       "    }\n",
       "\n",
       "    .dataframe thead th {\n",
       "        text-align: right;\n",
       "    }\n",
       "</style>\n",
       "<table border=\"1\" class=\"dataframe\">\n",
       "  <thead>\n",
       "    <tr style=\"text-align: right;\">\n",
       "      <th></th>\n",
       "      <th>FTLab Radon Data</th>\n",
       "    </tr>\n",
       "  </thead>\n",
       "  <tbody>\n",
       "    <tr>\n",
       "      <th>Model Name:</th>\n",
       "      <td>Radon Eye</td>\n",
       "    </tr>\n",
       "    <tr>\n",
       "      <th>S/N:</th>\n",
       "      <td>RE22002111054</td>\n",
       "    </tr>\n",
       "    <tr>\n",
       "      <th>Unit:</th>\n",
       "      <td>Bq/m3</td>\n",
       "    </tr>\n",
       "    <tr>\n",
       "      <th>Time step:</th>\n",
       "      <td>1hour</td>\n",
       "    </tr>\n",
       "    <tr>\n",
       "      <th>Data No:</th>\n",
       "      <td>1576</td>\n",
       "    </tr>\n",
       "    <tr>\n",
       "      <th>...</th>\n",
       "      <td>...</td>\n",
       "    </tr>\n",
       "    <tr>\n",
       "      <th>1572)</th>\n",
       "      <td>8</td>\n",
       "    </tr>\n",
       "    <tr>\n",
       "      <th>1573)</th>\n",
       "      <td>8</td>\n",
       "    </tr>\n",
       "    <tr>\n",
       "      <th>1574)</th>\n",
       "      <td>29</td>\n",
       "    </tr>\n",
       "    <tr>\n",
       "      <th>1575)</th>\n",
       "      <td>71</td>\n",
       "    </tr>\n",
       "    <tr>\n",
       "      <th>1576)</th>\n",
       "      <td>26</td>\n",
       "    </tr>\n",
       "  </tbody>\n",
       "</table>\n",
       "<p>1581 rows × 1 columns</p>\n",
       "</div>"
      ],
      "text/plain": [
       "            FTLab Radon Data\n",
       "Model Name:        Radon Eye\n",
       "S/N:           RE22002111054\n",
       "Unit:                  Bq/m3\n",
       "Time step:             1hour\n",
       "Data No:                1576\n",
       "...                      ...\n",
       "1572)                      8\n",
       "1573)                      8\n",
       "1574)                     29\n",
       "1575)                     71\n",
       "1576)                     26\n",
       "\n",
       "[1581 rows x 1 columns]"
      ]
     },
     "metadata": {},
     "output_type": "display_data"
    }
   ],
   "source": [
    "# selecting the first file\n",
    "file = files[0]\n",
    "df = pd.read_csv(f, sep='\\t')\n",
    "display(df)"
   ]
  },
  {
   "cell_type": "markdown",
   "metadata": {},
   "source": [
    "Check dataframe head for more information."
   ]
  },
  {
   "cell_type": "code",
   "execution_count": 5,
   "metadata": {},
   "outputs": [
    {
     "data": {
      "text/html": [
       "<div>\n",
       "<style scoped>\n",
       "    .dataframe tbody tr th:only-of-type {\n",
       "        vertical-align: middle;\n",
       "    }\n",
       "\n",
       "    .dataframe tbody tr th {\n",
       "        vertical-align: top;\n",
       "    }\n",
       "\n",
       "    .dataframe thead th {\n",
       "        text-align: right;\n",
       "    }\n",
       "</style>\n",
       "<table border=\"1\" class=\"dataframe\">\n",
       "  <thead>\n",
       "    <tr style=\"text-align: right;\">\n",
       "      <th></th>\n",
       "      <th>FTLab Radon Data</th>\n",
       "    </tr>\n",
       "  </thead>\n",
       "  <tbody>\n",
       "    <tr>\n",
       "      <th>Model Name:</th>\n",
       "      <td>Radon Eye</td>\n",
       "    </tr>\n",
       "    <tr>\n",
       "      <th>S/N:</th>\n",
       "      <td>RE22002111054</td>\n",
       "    </tr>\n",
       "    <tr>\n",
       "      <th>Unit:</th>\n",
       "      <td>Bq/m3</td>\n",
       "    </tr>\n",
       "    <tr>\n",
       "      <th>Time step:</th>\n",
       "      <td>1hour</td>\n",
       "    </tr>\n",
       "    <tr>\n",
       "      <th>Data No:</th>\n",
       "      <td>1576</td>\n",
       "    </tr>\n",
       "    <tr>\n",
       "      <th>1)</th>\n",
       "      <td>48</td>\n",
       "    </tr>\n",
       "    <tr>\n",
       "      <th>2)</th>\n",
       "      <td>43</td>\n",
       "    </tr>\n",
       "    <tr>\n",
       "      <th>3)</th>\n",
       "      <td>42</td>\n",
       "    </tr>\n",
       "  </tbody>\n",
       "</table>\n",
       "</div>"
      ],
      "text/plain": [
       "            FTLab Radon Data\n",
       "Model Name:        Radon Eye\n",
       "S/N:           RE22002111054\n",
       "Unit:                  Bq/m3\n",
       "Time step:             1hour\n",
       "Data No:                1576\n",
       "1)                        48\n",
       "2)                        43\n",
       "3)                        42"
      ]
     },
     "metadata": {},
     "output_type": "display_data"
    }
   ],
   "source": [
    "display(df.head(8))"
   ]
  },
  {
   "cell_type": "markdown",
   "metadata": {},
   "source": [
    "Get the number of measurements from field `Data No:`."
   ]
  },
  {
   "cell_type": "code",
   "execution_count": 6,
   "metadata": {},
   "outputs": [
    {
     "name": "stdout",
     "output_type": "stream",
     "text": [
      "Number of measurements: '1576'\n"
     ]
    }
   ],
   "source": [
    "# number of measurements\n",
    "num = int(df.loc['Data No:'].values[0])\n",
    "print(f\"Number of measurements: '{num}'\")"
   ]
  },
  {
   "cell_type": "markdown",
   "metadata": {},
   "source": [
    "## Retrieving rows that contain measurment values\n",
    "Get all indices that contain measurement values. Measurement values are indicated by index column values like: <br>\n",
    "`1), 2), ...`\n",
    "\n",
    "A regular expression is used for retrieving the rows with measurement values."
   ]
  },
  {
   "cell_type": "code",
   "execution_count": 7,
   "metadata": {},
   "outputs": [
    {
     "data": {
      "text/plain": [
       "Int64Index([   5,    6,    7,    8,    9,   10,   11,   12,   13,   14,\n",
       "            ...\n",
       "            1571, 1572, 1573, 1574, 1575, 1576, 1577, 1578, 1579, 1580],\n",
       "           dtype='int64', length=1576)"
      ]
     },
     "metadata": {},
     "output_type": "display_data"
    }
   ],
   "source": [
    "# regex for index column, indicating measurement value rows\n",
    "re_step = '([0-9]+)\\\\)'\n",
    "\n",
    "#index_step = df.index.str.contains(re_step, regex=True)\n",
    "index_step = df.index.str.extract(re_step).dropna().index\n",
    "display(index_step) "
   ]
  },
  {
   "cell_type": "markdown",
   "metadata": {},
   "source": [
    "## Setting the date time for each entry\n",
    "File name containing data time is created on export and will there for correspond with data time of last measurement value."
   ]
  },
  {
   "cell_type": "code",
   "execution_count": 16,
   "metadata": {},
   "outputs": [
    {
     "data": {
      "text/html": [
       "<div>\n",
       "<style scoped>\n",
       "    .dataframe tbody tr th:only-of-type {\n",
       "        vertical-align: middle;\n",
       "    }\n",
       "\n",
       "    .dataframe tbody tr th {\n",
       "        vertical-align: top;\n",
       "    }\n",
       "\n",
       "    .dataframe thead th {\n",
       "        text-align: right;\n",
       "    }\n",
       "</style>\n",
       "<table border=\"1\" class=\"dataframe\">\n",
       "  <thead>\n",
       "    <tr style=\"text-align: right;\">\n",
       "      <th></th>\n",
       "      <th>FTLab Radon Data</th>\n",
       "      <th>date_time</th>\n",
       "    </tr>\n",
       "  </thead>\n",
       "  <tbody>\n",
       "    <tr>\n",
       "      <th>1)</th>\n",
       "      <td>48</td>\n",
       "      <td>2020-12-25 19:09:21</td>\n",
       "    </tr>\n",
       "    <tr>\n",
       "      <th>2)</th>\n",
       "      <td>43</td>\n",
       "      <td>2020-12-25 20:09:21</td>\n",
       "    </tr>\n",
       "    <tr>\n",
       "      <th>3)</th>\n",
       "      <td>42</td>\n",
       "      <td>2020-12-25 21:09:21</td>\n",
       "    </tr>\n",
       "    <tr>\n",
       "      <th>4)</th>\n",
       "      <td>59</td>\n",
       "      <td>2020-12-25 22:09:21</td>\n",
       "    </tr>\n",
       "    <tr>\n",
       "      <th>5)</th>\n",
       "      <td>45</td>\n",
       "      <td>2020-12-25 23:09:21</td>\n",
       "    </tr>\n",
       "    <tr>\n",
       "      <th>...</th>\n",
       "      <td>...</td>\n",
       "      <td>...</td>\n",
       "    </tr>\n",
       "    <tr>\n",
       "      <th>1572)</th>\n",
       "      <td>8</td>\n",
       "      <td>2021-03-01 06:09:21</td>\n",
       "    </tr>\n",
       "    <tr>\n",
       "      <th>1573)</th>\n",
       "      <td>8</td>\n",
       "      <td>2021-03-01 07:09:21</td>\n",
       "    </tr>\n",
       "    <tr>\n",
       "      <th>1574)</th>\n",
       "      <td>29</td>\n",
       "      <td>2021-03-01 08:09:21</td>\n",
       "    </tr>\n",
       "    <tr>\n",
       "      <th>1575)</th>\n",
       "      <td>71</td>\n",
       "      <td>2021-03-01 09:09:21</td>\n",
       "    </tr>\n",
       "    <tr>\n",
       "      <th>1576)</th>\n",
       "      <td>26</td>\n",
       "      <td>2021-03-01 10:09:21</td>\n",
       "    </tr>\n",
       "  </tbody>\n",
       "</table>\n",
       "<p>1576 rows × 2 columns</p>\n",
       "</div>"
      ],
      "text/plain": [
       "       FTLab Radon Data            date_time\n",
       "1)                   48  2020-12-25 19:09:21\n",
       "2)                   43  2020-12-25 20:09:21\n",
       "3)                   42  2020-12-25 21:09:21\n",
       "4)                   59  2020-12-25 22:09:21\n",
       "5)                   45  2020-12-25 23:09:21\n",
       "...                 ...                  ...\n",
       "1572)                 8  2021-03-01 06:09:21\n",
       "1573)                 8  2021-03-01 07:09:21\n",
       "1574)                29  2021-03-01 08:09:21\n",
       "1575)                71  2021-03-01 09:09:21\n",
       "1576)                26  2021-03-01 10:09:21\n",
       "\n",
       "[1576 rows x 2 columns]"
      ]
     },
     "execution_count": 16,
     "metadata": {},
     "output_type": "execute_result"
    }
   ],
   "source": [
    "df['date_time'] = np.nan\n",
    "df_ = df.iloc[index_step,:]\n",
    "df_ = df_.astype({'FTLab Radon Data':'int'})\n",
    "for i, (index, row) in enumerate(df_.iterrows()):\n",
    "    date_time = date_time_obj-timedelta(hours=num-1-i)\n",
    "    df_.loc[index,'date_time'] = date_time\n",
    "df_"
   ]
  },
  {
   "cell_type": "markdown",
   "metadata": {},
   "source": [
    "## Plot Radon levels\n",
    "Line plot displaying all values (one per hour)."
   ]
  },
  {
   "cell_type": "code",
   "execution_count": 28,
   "metadata": {
    "tags": []
   },
   "outputs": [
    {
     "data": {
      "image/png": "[encoded data removed]",
      "text/plain": [
       "<Figure size 1080x432 with 1 Axes>"
      ]
     },
     "metadata": {
      "needs_background": "light"
     },
     "output_type": "display_data"
    }
   ],
   "source": [
    "fig, ax = plt.subplots(figsize=(15,6))\n",
    "df_.plot.line(\n",
    "    y='FTLab Radon Data',\n",
    "    x='date_time',\n",
    "    ax=ax, grid=False)\n",
    "ax.set_xlabel(\"date time\")\n",
    "ax.set_ylabel(\"Bq/m^3\")\n",
    "ax.set_title(\"Radon levels over time - one measurement per hour\")\n",
    "plt.show()\n",
    "\n",
    "fig.savefig('plot_lineplot.svg', facecolor='white', transparent=False)"
   ]
  },
  {
   "cell_type": "markdown",
   "metadata": {},
   "source": [
    "Box plot grouping the measurements by the hours of the day (24h)."
   ]
  },
  {
   "cell_type": "code",
   "execution_count": 27,
   "metadata": {},
   "outputs": [
    {
     "data": {
      "image/png": "[encoded data removed]",
      "text/plain": [
       "<Figure size 1080x432 with 1 Axes>"
      ]
     },
     "metadata": {
      "needs_background": "light"
     },
     "output_type": "display_data"
    }
   ],
   "source": [
    "df_.set_index(df_.date_time, inplace=True)\n",
    "df_['hours of day']= df_.index.hour\n",
    "\n",
    "fig, ax = plt.subplots(figsize=(15,6))\n",
    "df_.boxplot(by='hours of day', ax=ax, grid=False)\n",
    "ax.set_xlabel(\"hours of day\")\n",
    "ax.set_ylabel(\"Bq/m^3\")\n",
    "ax.hlines(y=100, xmin=0.5, xmax=24.5, linestyle=':', color='r')\n",
    "plt.show()\n",
    "fig.savefig('plot_boxplot.svg', facecolor='white', transparent=False)"
   ]
  },
  {
   "cell_type": "code",
   "execution_count": null,
   "metadata": {},
   "outputs": [],
   "source": []
  }
 ],
 "metadata": {
  "kernelspec": {
   "display_name": "Python 3 (ipykernel)",
   "language": "python",
   "name": "python3"
  },
  "language_info": {
   "codemirror_mode": {
    "name": "ipython",
    "version": 3
   },
   "file_extension": ".py",
   "mimetype": "text/x-python",
   "name": "python",
   "nbconvert_exporter": "python",
   "pygments_lexer": "ipython3",
   "version": "3.9.6"
  }
 },
 "nbformat": 4,
 "nbformat_minor": 4
}
